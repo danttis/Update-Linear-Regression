{
 "cells": [
  {
   "cell_type": "markdown",
   "metadata": {},
   "source": [
    "**Linear Regression:**\n",
    "$$ Y = \\alpha - \\beta X$$\n",
    "**Alpha:**\n",
    "$$ \\alpha = Y - \\beta X$$\n",
    "**Beta:**\n",
    "$$ \\beta = \\frac{S_{xy_{n}}}{S^{2}_{x_{n}}}$$\n",
    "**Sx²:**\n",
    "$$ \\sum_{i=1}^{n} (X_i - \\bar{X}_n)$$\n",
    "**Sxy:**\n",
    "$$ Sxy = \\sum_{i=1}^{n} (X_i - \\bar{X}_n) \\cdot (y_i - \\bar{y}_n)$$\n",
    "**Update:**\n",
    "$$S^{2}_{x_{n+1}}= S^{2}_n + \\left( X_{n+1}- \\left( \\frac{{\\bar{x}_{n} \\sqrt{n} + \\bar{X}_{n+1} \\sqrt{n+1}}}{{\\sqrt{n} + \\sqrt{n+1}}} \\right)\\right)^2\n",
    "$$\n",
    "\n",
    "$$S_{xy_{n+1}} = S_{xy_n} + \\left(X_{n+1} - \\left(\\frac{{\\bar{x}_{n} \\sqrt{n} + \\bar{X}_{n+1} \\sqrt{n+1}}}{{\\sqrt{n} + \\sqrt{n+1}}}\\right)\\right) \\cdot  \\left(Y_{n+1}- \\left( \\frac{{\\bar{Y}_{n} \\sqrt{n} + \\bar{Y}_{n+1} \\sqrt{n+1}}}{{\\sqrt{n} + \\sqrt{n+1}}} \\right)\\right)$$"
   ]
  },
  {
   "cell_type": "code",
   "execution_count": 5,
   "metadata": {},
   "outputs": [],
   "source": [
    "import numpy as np\n",
    "import pandas as pd\n",
    "\n",
    "def linear_regression_online(Xn, Yn, n, xn1,yn1, Sx2, Sxy):\n",
    "    n1 = n + 1\n",
    "    mean_x = (Xn*n + xn1)/n1\n",
    "    mean_y = (Yn*n + yn1)/n1\n",
    "    if n > 0:\n",
    "        new_x = (Xn*np.sqrt(n)+mean_x*np.sqrt(n1))/(np.sqrt(n)+np.sqrt(n1))\n",
    "        new_y = (Yn*np.sqrt(n)+mean_y*np.sqrt(n1))/(np.sqrt(n)+np.sqrt(n1))\n",
    "    else:\n",
    "        new_x, new_y = mean_x, mean_y\n",
    "    Sx2 = Sx2 + (xn1 - new_x)**2\n",
    "    \n",
    "    if Sx2 == 0:\n",
    "        b = np.nan\n",
    "    else:\n",
    "        Sxy = Sxy + (xn1-new_x)*(yn1-new_y)\n",
    "        b = Sxy/Sx2\n",
    "    a = mean_y - b*mean_x\n",
    "    \n",
    "    return a, b, mean_x, mean_y, n1, Sx2, Sxy\n"
   ]
  },
  {
   "cell_type": "code",
   "execution_count": 6,
   "metadata": {},
   "outputs": [],
   "source": [
    "#https://www.kaggle.com/datasets/yasserh/student-marks-dataset\n",
    "data = pd.read_csv('./Student_Marks.csv') \n",
    "X = data['time_study'].values.reshape(-1, 1)\n",
    "y = data['Marks'].values.reshape(-1, 1)"
   ]
  },
  {
   "cell_type": "code",
   "execution_count": 7,
   "metadata": {},
   "outputs": [
    {
     "name": "stdout",
     "output_type": "stream",
     "text": [
      "Intercepto: [1.22385811]\n",
      "Coeficiente angular: [[5.68875042]]\n"
     ]
    }
   ],
   "source": [
    "from sklearn.linear_model import LinearRegression\n",
    "reg = LinearRegression().fit(X,y)\n",
    "print(f'Intercepto: {reg.intercept_}')\n",
    "print(f'Coeficiente angular: {reg.coef_}')"
   ]
  },
  {
   "cell_type": "code",
   "execution_count": 4,
   "metadata": {},
   "outputs": [
    {
     "name": "stdout",
     "output_type": "stream",
     "text": [
      "Intercepto: [1.22385811]\n",
      "Coeficiente angular: [5.68875042]\n"
     ]
    }
   ],
   "source": [
    "a = b = mean_x =  mean_y = n = Sx2 = Sxy = 0\n",
    "for i, j in zip(X, y):\n",
    "    a,b,mean_x,mean_y,n, Sx2,Sxy = linear_regression_online(mean_x, mean_y,n,i,j,Sx2,Sxy)\n",
    "print(f'Intercepto: {a}')\n",
    "print(f'Coeficiente angular: {b}')"
   ]
  }
 ],
 "metadata": {
  "kernelspec": {
   "display_name": "Python 3",
   "language": "python",
   "name": "python3"
  },
  "language_info": {
   "codemirror_mode": {
    "name": "ipython",
    "version": 3
   },
   "file_extension": ".py",
   "mimetype": "text/x-python",
   "name": "python",
   "nbconvert_exporter": "python",
   "pygments_lexer": "ipython3",
   "version": "3.11.1"
  }
 },
 "nbformat": 4,
 "nbformat_minor": 2
}
